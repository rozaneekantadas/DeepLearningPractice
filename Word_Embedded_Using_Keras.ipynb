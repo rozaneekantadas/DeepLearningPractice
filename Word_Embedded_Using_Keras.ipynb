{
  "nbformat": 4,
  "nbformat_minor": 0,
  "metadata": {
    "colab": {
      "name": "Word Embedded Using Keras.ipynb",
      "provenance": [],
      "authorship_tag": "ABX9TyPwfwOIUSFRwEBMHRMPh5oV"
    },
    "kernelspec": {
      "name": "python3",
      "display_name": "Python 3"
    },
    "language_info": {
      "name": "python"
    }
  },
  "cells": [
    {
      "cell_type": "code",
      "metadata": {
        "colab": {
          "base_uri": "https://localhost:8080/"
        },
        "id": "DwazArRs68wy",
        "outputId": "8d6df808-90d6-468f-fe36-d1dcdb0cc40e"
      },
      "source": [
        "import tensorflow as tf\n",
        "print(tf.__version__)"
      ],
      "execution_count": 4,
      "outputs": [
        {
          "output_type": "stream",
          "text": [
            "2.5.0\n"
          ],
          "name": "stdout"
        }
      ]
    },
    {
      "cell_type": "code",
      "metadata": {
        "id": "GdZMf2_725rO"
      },
      "source": [
        "from tensorflow.keras.preprocessing.text import one_hot"
      ],
      "execution_count": 7,
      "outputs": []
    },
    {
      "cell_type": "code",
      "metadata": {
        "id": "Z49x3aSL61xt"
      },
      "source": [
        "sentence = ['the glass of milk',\n",
        "            'the glass of juice',\n",
        "            'the cup of tea',\n",
        "            'i am good boy',\n",
        "            'i am a good developer',\n",
        "            'understading the meaning of words',\n",
        "            'something is better then nothing']"
      ],
      "execution_count": 10,
      "outputs": []
    },
    {
      "cell_type": "code",
      "metadata": {
        "colab": {
          "base_uri": "https://localhost:8080/"
        },
        "id": "X91bfuEL9UFK",
        "outputId": "c14ffdf4-cc35-47db-e1b2-26ee65a5d7cd"
      },
      "source": [
        "sentence"
      ],
      "execution_count": 11,
      "outputs": [
        {
          "output_type": "execute_result",
          "data": {
            "text/plain": [
              "['the glass of milk',\n",
              " 'the glass of juice',\n",
              " 'the cup of tea',\n",
              " 'i am good boy',\n",
              " 'i am a good developer',\n",
              " 'understading the meaning of words',\n",
              " 'something is better then nothing']"
            ]
          },
          "metadata": {
            "tags": []
          },
          "execution_count": 11
        }
      ]
    },
    {
      "cell_type": "code",
      "metadata": {
        "id": "8N05mWpI9giN"
      },
      "source": [
        "voc_size = 10000"
      ],
      "execution_count": 12,
      "outputs": []
    },
    {
      "cell_type": "code",
      "metadata": {
        "colab": {
          "base_uri": "https://localhost:8080/"
        },
        "id": "ej0qnMa7-nLc",
        "outputId": "5453b229-55de-470d-b67b-32748824bdeb"
      },
      "source": [
        "onehot_sen = [one_hot(word, voc_size) for word in sentence]\n",
        "print(onehot_sen)"
      ],
      "execution_count": 13,
      "outputs": [
        {
          "output_type": "stream",
          "text": [
            "[[2500, 1454, 7562, 1138], [2500, 1454, 7562, 4376], [2500, 2129, 7562, 4296], [7027, 3330, 7481, 9623], [7027, 3330, 9113, 7481, 3213], [4619, 2500, 844, 7562, 8119], [9536, 6449, 441, 7729, 5442]]\n"
          ],
          "name": "stdout"
        }
      ]
    },
    {
      "cell_type": "code",
      "metadata": {
        "id": "lfml15LA-8Ej"
      },
      "source": [
        "from tensorflow.keras.layers import Embedding\n",
        "from tensorflow.keras.preprocessing.sequence import pad_sequences \n",
        "from tensorflow.keras.models import Sequential"
      ],
      "execution_count": 20,
      "outputs": []
    },
    {
      "cell_type": "code",
      "metadata": {
        "colab": {
          "base_uri": "https://localhost:8080/"
        },
        "id": "8sF8Gi9D_RZC",
        "outputId": "be2467c9-3e00-4bcc-ab2c-f8c8ee0be27c"
      },
      "source": [
        "sentence_len = 8\n",
        "embedded_text = pad_sequences(onehot_sen, padding='pre', maxlen=sentence_len)\n",
        "print(embedded_text)"
      ],
      "execution_count": 21,
      "outputs": [
        {
          "output_type": "stream",
          "text": [
            "[[   0    0    0    0 2500 1454 7562 1138]\n",
            " [   0    0    0    0 2500 1454 7562 4376]\n",
            " [   0    0    0    0 2500 2129 7562 4296]\n",
            " [   0    0    0    0 7027 3330 7481 9623]\n",
            " [   0    0    0 7027 3330 9113 7481 3213]\n",
            " [   0    0    0 4619 2500  844 7562 8119]\n",
            " [   0    0    0 9536 6449  441 7729 5442]]\n"
          ],
          "name": "stdout"
        }
      ]
    },
    {
      "cell_type": "code",
      "metadata": {
        "id": "MpK50FLBAb46"
      },
      "source": [
        "model = Sequential()\n",
        "model.add(Embedding(voc_size, 10, input_length=sentence_len))\n",
        "model.compile('adam', 'mse')"
      ],
      "execution_count": 24,
      "outputs": []
    },
    {
      "cell_type": "code",
      "metadata": {
        "colab": {
          "base_uri": "https://localhost:8080/"
        },
        "id": "eQDeLOCCBHMC",
        "outputId": "0a01a129-ff23-45ea-aab7-fdd0c17e07af"
      },
      "source": [
        "print(model.summary())"
      ],
      "execution_count": 27,
      "outputs": [
        {
          "output_type": "stream",
          "text": [
            "Model: \"sequential_2\"\n",
            "_________________________________________________________________\n",
            "Layer (type)                 Output Shape              Param #   \n",
            "=================================================================\n",
            "embedding_1 (Embedding)      (None, 8, 10)             100000    \n",
            "=================================================================\n",
            "Total params: 100,000\n",
            "Trainable params: 100,000\n",
            "Non-trainable params: 0\n",
            "_________________________________________________________________\n",
            "None\n"
          ],
          "name": "stdout"
        }
      ]
    },
    {
      "cell_type": "code",
      "metadata": {
        "colab": {
          "base_uri": "https://localhost:8080/"
        },
        "id": "kPUoF0xMCLWK",
        "outputId": "074ec762-23f5-4a79-a6d7-b93be394b853"
      },
      "source": [
        "print(embedded_text[0])"
      ],
      "execution_count": 28,
      "outputs": [
        {
          "output_type": "stream",
          "text": [
            "[   0    0    0    0 2500 1454 7562 1138]\n"
          ],
          "name": "stdout"
        }
      ]
    },
    {
      "cell_type": "code",
      "metadata": {
        "colab": {
          "base_uri": "https://localhost:8080/"
        },
        "id": "ZFjdKe-NComx",
        "outputId": "94cb65f0-c090-41d2-9f47-7154d8bc067e"
      },
      "source": [
        "print(model.predict(embedded_text)[0])"
      ],
      "execution_count": 31,
      "outputs": [
        {
          "output_type": "stream",
          "text": [
            "[[-0.00684625 -0.00598665 -0.04020643  0.04558152  0.03530283 -0.0371871\n",
            "  -0.03830656 -0.00085992 -0.02998296  0.00207298]\n",
            " [-0.00684625 -0.00598665 -0.04020643  0.04558152  0.03530283 -0.0371871\n",
            "  -0.03830656 -0.00085992 -0.02998296  0.00207298]\n",
            " [-0.00684625 -0.00598665 -0.04020643  0.04558152  0.03530283 -0.0371871\n",
            "  -0.03830656 -0.00085992 -0.02998296  0.00207298]\n",
            " [-0.00684625 -0.00598665 -0.04020643  0.04558152  0.03530283 -0.0371871\n",
            "  -0.03830656 -0.00085992 -0.02998296  0.00207298]\n",
            " [ 0.02770772 -0.00062523 -0.00684793  0.01461253  0.0392215   0.0202418\n",
            "  -0.03908168 -0.04059815  0.04035744 -0.01161725]\n",
            " [ 0.00379612 -0.00335474 -0.01745012 -0.0039207   0.03854996 -0.02964727\n",
            "   0.03025636  0.01266732 -0.01584222  0.00798702]\n",
            " [ 0.02392362  0.0190067  -0.02492837  0.04858949 -0.01864289  0.00218151\n",
            "  -0.00712043  0.01498095  0.02783621 -0.01591346]\n",
            " [ 0.04309716 -0.00673491 -0.03299004 -0.0314216   0.04305798  0.00111929\n",
            "   0.04940869  0.00504469 -0.0142943   0.00779178]]\n"
          ],
          "name": "stdout"
        }
      ]
    },
    {
      "cell_type": "code",
      "metadata": {
        "id": "0SSz3mqMC7dD"
      },
      "source": [
        ""
      ],
      "execution_count": null,
      "outputs": []
    }
  ]
}