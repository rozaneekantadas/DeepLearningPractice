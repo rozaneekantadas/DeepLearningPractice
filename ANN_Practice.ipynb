{
  "nbformat": 4,
  "nbformat_minor": 0,
  "metadata": {
    "colab": {
      "name": "ANN Practice.ipynb",
      "provenance": [],
      "mount_file_id": "1NBpyKLdDVPtQGK7luVkm2FAzVmvL5j0j",
      "authorship_tag": "ABX9TyOnsLpB8cW47HHpDO8g5WvC"
    },
    "kernelspec": {
      "name": "python3",
      "display_name": "Python 3"
    },
    "language_info": {
      "name": "python"
    }
  },
  "cells": [
    {
      "cell_type": "code",
      "metadata": {
        "id": "jUNSVv-0pLHj"
      },
      "source": [
        "import numpy as np\n",
        "import pandas as pd\n",
        "import matplotlib.pyplot as plt"
      ],
      "execution_count": 12,
      "outputs": []
    },
    {
      "cell_type": "code",
      "metadata": {
        "colab": {
          "base_uri": "https://localhost:8080/"
        },
        "id": "zV8tShSlqhyi",
        "outputId": "67350496-a038-4b1e-d4a3-86eaa7688053"
      },
      "source": [
        "dataset = pd.read_csv(\"/content/drive/MyDrive/Colab Notebooks/DeepLearningPractice/ANN/Churn_Modelling.csv\")\n",
        "print(dataset.head())"
      ],
      "execution_count": 13,
      "outputs": [
        {
          "output_type": "stream",
          "text": [
            "   RowNumber  CustomerId   Surname  ...  IsActiveMember EstimatedSalary Exited\n",
            "0          1    15634602  Hargrave  ...               1       101348.88      1\n",
            "1          2    15647311      Hill  ...               1       112542.58      0\n",
            "2          3    15619304      Onio  ...               0       113931.57      1\n",
            "3          4    15701354      Boni  ...               0        93826.63      0\n",
            "4          5    15737888  Mitchell  ...               1        79084.10      0\n",
            "\n",
            "[5 rows x 14 columns]\n"
          ],
          "name": "stdout"
        }
      ]
    },
    {
      "cell_type": "code",
      "metadata": {
        "id": "1QTWfsJTqrkQ"
      },
      "source": [
        "X = dataset.iloc[:, 3:13]\n",
        "y = dataset.iloc[:, 13]"
      ],
      "execution_count": 14,
      "outputs": []
    },
    {
      "cell_type": "code",
      "metadata": {
        "id": "Ayuf4nPPquII"
      },
      "source": [
        "geography = pd.get_dummies(X[\"Geography\"], drop_first=True)\n",
        "gender = pd.get_dummies(X[\"Gender\"], drop_first=True)"
      ],
      "execution_count": 15,
      "outputs": []
    },
    {
      "cell_type": "code",
      "metadata": {
        "colab": {
          "base_uri": "https://localhost:8080/"
        },
        "id": "JpwEzSquqvkw",
        "outputId": "2cedcdb1-c411-4535-8a39-6deea6a04289"
      },
      "source": [
        "X = pd.concat([X, geography, gender], axis = 1)\n",
        "X = X.drop(['Geography', 'Gender'], axis = 1)\n",
        "print(X.head())"
      ],
      "execution_count": 16,
      "outputs": [
        {
          "output_type": "stream",
          "text": [
            "   CreditScore  Age  Tenure    Balance  ...  EstimatedSalary  Germany  Spain  Male\n",
            "0          619   42       2       0.00  ...        101348.88        0      0     0\n",
            "1          608   41       1   83807.86  ...        112542.58        0      1     0\n",
            "2          502   42       8  159660.80  ...        113931.57        0      0     0\n",
            "3          699   39       1       0.00  ...         93826.63        0      0     0\n",
            "4          850   43       2  125510.82  ...         79084.10        0      1     0\n",
            "\n",
            "[5 rows x 11 columns]\n"
          ],
          "name": "stdout"
        }
      ]
    },
    {
      "cell_type": "code",
      "metadata": {
        "id": "N5NGtaLWqznw"
      },
      "source": [
        "from sklearn.model_selection import train_test_split\n",
        "x_train, x_test, y_train, y_test = train_test_split(X, y, test_size = 0.2, random_state = 0)"
      ],
      "execution_count": 20,
      "outputs": []
    },
    {
      "cell_type": "code",
      "metadata": {
        "id": "ipW9Ceqyq1P_"
      },
      "source": [
        "from sklearn.preprocessing import StandardScaler\n",
        "sc = StandardScaler()\n",
        "x_train = sc.fit_transform(x_train)\n",
        "x_test = sc.transform(x_test)"
      ],
      "execution_count": 21,
      "outputs": []
    },
    {
      "cell_type": "code",
      "metadata": {
        "colab": {
          "base_uri": "https://localhost:8080/"
        },
        "id": "bl4FGmWurQBw",
        "outputId": "39f17ae5-9450-410d-d57a-b1d121169b31"
      },
      "source": [
        "print(x_train)\n",
        "print(x_test)"
      ],
      "execution_count": 23,
      "outputs": [
        {
          "output_type": "stream",
          "text": [
            "[[ 0.16958176 -0.46460796  0.00666099 ... -0.5698444   1.74309049\n",
            "  -1.09168714]\n",
            " [-2.30455945  0.30102557 -1.37744033 ...  1.75486502 -0.57369368\n",
            "   0.91601335]\n",
            " [-1.19119591 -0.94312892 -1.031415   ... -0.5698444  -0.57369368\n",
            "  -1.09168714]\n",
            " ...\n",
            " [ 0.9015152  -0.36890377  0.00666099 ... -0.5698444  -0.57369368\n",
            "   0.91601335]\n",
            " [-0.62420521 -0.08179119  1.39076231 ... -0.5698444   1.74309049\n",
            "  -1.09168714]\n",
            " [-0.28401079  0.87525072 -1.37744033 ...  1.75486502 -0.57369368\n",
            "  -1.09168714]]\n",
            "[[-0.55204276 -0.36890377  1.04473698 ...  1.75486502 -0.57369368\n",
            "  -1.09168714]\n",
            " [-1.31490297  0.10961719 -1.031415   ... -0.5698444  -0.57369368\n",
            "  -1.09168714]\n",
            " [ 0.57162971  0.30102557  1.04473698 ... -0.5698444   1.74309049\n",
            "  -1.09168714]\n",
            " ...\n",
            " [-0.74791227 -0.27319958 -1.37744033 ... -0.5698444   1.74309049\n",
            "   0.91601335]\n",
            " [-0.00566991 -0.46460796 -0.33936434 ...  1.75486502 -0.57369368\n",
            "   0.91601335]\n",
            " [-0.79945688 -0.84742473  1.04473698 ...  1.75486502 -0.57369368\n",
            "   0.91601335]]\n"
          ],
          "name": "stdout"
        }
      ]
    },
    {
      "cell_type": "code",
      "metadata": {
        "id": "ggiPcLJKq2f4"
      },
      "source": [
        "import keras\n",
        "from keras.models import Sequential\n",
        "from keras.layers import Dense\n",
        "from keras.layers import Dropout"
      ],
      "execution_count": 25,
      "outputs": []
    },
    {
      "cell_type": "code",
      "metadata": {
        "id": "rlIo77xzq4F4"
      },
      "source": [
        "classifier = Sequential()"
      ],
      "execution_count": 27,
      "outputs": []
    },
    {
      "cell_type": "code",
      "metadata": {
        "id": "0vgJDV-oropP"
      },
      "source": [
        "classifier.add(Dense(units=10, kernel_initializer='he_uniform', activation='relu', input_dim = 11))\n",
        "classifier.add(Dropout(0.3))"
      ],
      "execution_count": 51,
      "outputs": []
    },
    {
      "cell_type": "code",
      "metadata": {
        "id": "B5UWHdCYsHhQ"
      },
      "source": [
        "classifier.add(Dense(units=20, kernel_initializer='he_uniform', activation='relu'))\n",
        "classifier.add(Dropout(0.4))"
      ],
      "execution_count": 52,
      "outputs": []
    },
    {
      "cell_type": "code",
      "metadata": {
        "id": "2scOuSWZ0-UV"
      },
      "source": [
        "classifier.add(Dense(units=15, kernel_initializer='he_uniform', activation='relu'))\n",
        "classifier.add(Dropout(0.2))"
      ],
      "execution_count": 53,
      "outputs": []
    },
    {
      "cell_type": "code",
      "metadata": {
        "id": "1aiYcuuHsPPn"
      },
      "source": [
        "classifier.add(Dense(units=1, kernel_initializer='glorot_uniform', activation='sigmoid'))"
      ],
      "execution_count": 54,
      "outputs": []
    },
    {
      "cell_type": "code",
      "metadata": {
        "colab": {
          "base_uri": "https://localhost:8080/"
        },
        "id": "2Avp_5nRsZAA",
        "outputId": "1fbcddfa-a9eb-46b6-c154-00df79e53170"
      },
      "source": [
        "classifier.summary()"
      ],
      "execution_count": 55,
      "outputs": [
        {
          "output_type": "stream",
          "text": [
            "Model: \"sequential\"\n",
            "_________________________________________________________________\n",
            "Layer (type)                 Output Shape              Param #   \n",
            "=================================================================\n",
            "dense (Dense)                (None, 6)                 72        \n",
            "_________________________________________________________________\n",
            "dense_1 (Dense)              (None, 6)                 42        \n",
            "_________________________________________________________________\n",
            "dense_2 (Dense)              (None, 6)                 42        \n",
            "_________________________________________________________________\n",
            "dense_3 (Dense)              (None, 1)                 7         \n",
            "_________________________________________________________________\n",
            "dense_4 (Dense)              (None, 10)                20        \n",
            "_________________________________________________________________\n",
            "dense_5 (Dense)              (None, 20)                220       \n",
            "_________________________________________________________________\n",
            "dense_6 (Dense)              (None, 15)                315       \n",
            "_________________________________________________________________\n",
            "dense_7 (Dense)              (None, 1)                 16        \n",
            "_________________________________________________________________\n",
            "dense_8 (Dense)              (None, 10)                20        \n",
            "_________________________________________________________________\n",
            "dropout (Dropout)            (None, 10)                0         \n",
            "_________________________________________________________________\n",
            "dense_9 (Dense)              (None, 20)                220       \n",
            "_________________________________________________________________\n",
            "dropout_1 (Dropout)          (None, 20)                0         \n",
            "_________________________________________________________________\n",
            "dense_10 (Dense)             (None, 15)                315       \n",
            "_________________________________________________________________\n",
            "dropout_2 (Dropout)          (None, 15)                0         \n",
            "_________________________________________________________________\n",
            "dense_11 (Dense)             (None, 1)                 16        \n",
            "=================================================================\n",
            "Total params: 1,305\n",
            "Trainable params: 1,305\n",
            "Non-trainable params: 0\n",
            "_________________________________________________________________\n"
          ],
          "name": "stdout"
        }
      ]
    },
    {
      "cell_type": "code",
      "metadata": {
        "id": "DOJ3l0i3slPH"
      },
      "source": [
        "classifier.compile(optimizer='adam', loss='binary_crossentropy', metrics=['accuracy'])"
      ],
      "execution_count": 56,
      "outputs": []
    },
    {
      "cell_type": "code",
      "metadata": {
        "colab": {
          "base_uri": "https://localhost:8080/"
        },
        "id": "A3RvNNjKxB8X",
        "outputId": "827af593-edb9-409c-cfdb-b9de8491cd03"
      },
      "source": [
        "model_history = classifier.fit(x_train, y_train, validation_split=0.33, batch_size=10, epochs=100)"
      ],
      "execution_count": 57,
      "outputs": [
        {
          "output_type": "stream",
          "text": [
            "Epoch 1/100\n",
            "536/536 [==============================] - 4s 4ms/step - loss: 0.5060 - accuracy: 0.7477 - val_loss: 0.3992 - val_accuracy: 0.7955\n",
            "Epoch 2/100\n",
            "536/536 [==============================] - 1s 3ms/step - loss: 0.3789 - accuracy: 0.8015 - val_loss: 0.3932 - val_accuracy: 0.7955\n",
            "Epoch 3/100\n",
            "536/536 [==============================] - 2s 3ms/step - loss: 0.4144 - accuracy: 0.7721 - val_loss: 0.3930 - val_accuracy: 0.7955\n",
            "Epoch 4/100\n",
            "536/536 [==============================] - 1s 3ms/step - loss: 0.3921 - accuracy: 0.7941 - val_loss: 0.3934 - val_accuracy: 0.7955\n",
            "Epoch 5/100\n",
            "536/536 [==============================] - 2s 3ms/step - loss: 0.3804 - accuracy: 0.7934 - val_loss: 0.3873 - val_accuracy: 0.8519\n",
            "Epoch 6/100\n",
            "536/536 [==============================] - 1s 2ms/step - loss: 0.3965 - accuracy: 0.8308 - val_loss: 0.3949 - val_accuracy: 0.8538\n",
            "Epoch 7/100\n",
            "536/536 [==============================] - 1s 3ms/step - loss: 0.3710 - accuracy: 0.8400 - val_loss: 0.3898 - val_accuracy: 0.8546\n",
            "Epoch 8/100\n",
            "536/536 [==============================] - 1s 3ms/step - loss: 0.3611 - accuracy: 0.8461 - val_loss: 0.3988 - val_accuracy: 0.8523\n",
            "Epoch 9/100\n",
            "536/536 [==============================] - 2s 3ms/step - loss: 0.3908 - accuracy: 0.8446 - val_loss: 0.4062 - val_accuracy: 0.8565\n",
            "Epoch 10/100\n",
            "536/536 [==============================] - 1s 3ms/step - loss: 0.3854 - accuracy: 0.8334 - val_loss: 0.3942 - val_accuracy: 0.8561\n",
            "Epoch 11/100\n",
            "536/536 [==============================] - 2s 3ms/step - loss: 0.3627 - accuracy: 0.8531 - val_loss: 0.4155 - val_accuracy: 0.8535\n",
            "Epoch 12/100\n",
            "536/536 [==============================] - 1s 3ms/step - loss: 0.3874 - accuracy: 0.8389 - val_loss: 0.3823 - val_accuracy: 0.8554\n",
            "Epoch 13/100\n",
            "536/536 [==============================] - 1s 3ms/step - loss: 0.3727 - accuracy: 0.8422 - val_loss: 0.4161 - val_accuracy: 0.8561\n",
            "Epoch 14/100\n",
            "536/536 [==============================] - 2s 3ms/step - loss: 0.3711 - accuracy: 0.8440 - val_loss: 0.4080 - val_accuracy: 0.8550\n",
            "Epoch 15/100\n",
            "536/536 [==============================] - 1s 3ms/step - loss: 0.3961 - accuracy: 0.8332 - val_loss: 0.4082 - val_accuracy: 0.8531\n",
            "Epoch 16/100\n",
            "536/536 [==============================] - 2s 3ms/step - loss: 0.3748 - accuracy: 0.8450 - val_loss: 0.4057 - val_accuracy: 0.8561\n",
            "Epoch 17/100\n",
            "536/536 [==============================] - 2s 3ms/step - loss: 0.3790 - accuracy: 0.8452 - val_loss: 0.4207 - val_accuracy: 0.8504\n",
            "Epoch 18/100\n",
            "536/536 [==============================] - 2s 3ms/step - loss: 0.3973 - accuracy: 0.8341 - val_loss: 0.4050 - val_accuracy: 0.8550\n",
            "Epoch 19/100\n",
            "536/536 [==============================] - 2s 3ms/step - loss: 0.3633 - accuracy: 0.8475 - val_loss: 0.4384 - val_accuracy: 0.8550\n",
            "Epoch 20/100\n",
            "536/536 [==============================] - 1s 3ms/step - loss: 0.3989 - accuracy: 0.8315 - val_loss: 0.4121 - val_accuracy: 0.8561\n",
            "Epoch 21/100\n",
            "536/536 [==============================] - 2s 3ms/step - loss: 0.3684 - accuracy: 0.8408 - val_loss: 0.4187 - val_accuracy: 0.8557\n",
            "Epoch 22/100\n",
            "536/536 [==============================] - 1s 2ms/step - loss: 0.3701 - accuracy: 0.8525 - val_loss: 0.4183 - val_accuracy: 0.8489\n",
            "Epoch 23/100\n",
            "536/536 [==============================] - 2s 3ms/step - loss: 0.3737 - accuracy: 0.8423 - val_loss: 0.4248 - val_accuracy: 0.8542\n",
            "Epoch 24/100\n",
            "536/536 [==============================] - 1s 3ms/step - loss: 0.3799 - accuracy: 0.8387 - val_loss: 0.4072 - val_accuracy: 0.8565\n",
            "Epoch 25/100\n",
            "536/536 [==============================] - 1s 3ms/step - loss: 0.3751 - accuracy: 0.8428 - val_loss: 0.4264 - val_accuracy: 0.8482\n",
            "Epoch 26/100\n",
            "536/536 [==============================] - 2s 3ms/step - loss: 0.3677 - accuracy: 0.8505 - val_loss: 0.4296 - val_accuracy: 0.8440\n",
            "Epoch 27/100\n",
            "536/536 [==============================] - 2s 3ms/step - loss: 0.3699 - accuracy: 0.8488 - val_loss: 0.4012 - val_accuracy: 0.8546\n",
            "Epoch 28/100\n",
            "536/536 [==============================] - 1s 3ms/step - loss: 0.3690 - accuracy: 0.8403 - val_loss: 0.4238 - val_accuracy: 0.8565\n",
            "Epoch 29/100\n",
            "536/536 [==============================] - 1s 3ms/step - loss: 0.3708 - accuracy: 0.8503 - val_loss: 0.4211 - val_accuracy: 0.8527\n",
            "Epoch 30/100\n",
            "536/536 [==============================] - 2s 3ms/step - loss: 0.3629 - accuracy: 0.8526 - val_loss: 0.4216 - val_accuracy: 0.8512\n",
            "Epoch 31/100\n",
            "536/536 [==============================] - 1s 3ms/step - loss: 0.3641 - accuracy: 0.8499 - val_loss: 0.3940 - val_accuracy: 0.8561\n",
            "Epoch 32/100\n",
            "536/536 [==============================] - 1s 3ms/step - loss: 0.3782 - accuracy: 0.8457 - val_loss: 0.4209 - val_accuracy: 0.8482\n",
            "Epoch 33/100\n",
            "536/536 [==============================] - 1s 3ms/step - loss: 0.3662 - accuracy: 0.8430 - val_loss: 0.4099 - val_accuracy: 0.8576\n",
            "Epoch 34/100\n",
            "536/536 [==============================] - 1s 3ms/step - loss: 0.3708 - accuracy: 0.8466 - val_loss: 0.4519 - val_accuracy: 0.8512\n",
            "Epoch 35/100\n",
            "536/536 [==============================] - 1s 3ms/step - loss: 0.3704 - accuracy: 0.8520 - val_loss: 0.4537 - val_accuracy: 0.8470\n",
            "Epoch 36/100\n",
            "536/536 [==============================] - 1s 3ms/step - loss: 0.3653 - accuracy: 0.8435 - val_loss: 0.4106 - val_accuracy: 0.8512\n",
            "Epoch 37/100\n",
            "536/536 [==============================] - 2s 3ms/step - loss: 0.3756 - accuracy: 0.8427 - val_loss: 0.4231 - val_accuracy: 0.8451\n",
            "Epoch 38/100\n",
            "536/536 [==============================] - 2s 3ms/step - loss: 0.3589 - accuracy: 0.8542 - val_loss: 0.4506 - val_accuracy: 0.8429\n",
            "Epoch 39/100\n",
            "536/536 [==============================] - 1s 3ms/step - loss: 0.3790 - accuracy: 0.8450 - val_loss: 0.4045 - val_accuracy: 0.8538\n",
            "Epoch 40/100\n",
            "536/536 [==============================] - 2s 3ms/step - loss: 0.3665 - accuracy: 0.8481 - val_loss: 0.4276 - val_accuracy: 0.8554\n",
            "Epoch 41/100\n",
            "536/536 [==============================] - 2s 3ms/step - loss: 0.3861 - accuracy: 0.8295 - val_loss: 0.4126 - val_accuracy: 0.8508\n",
            "Epoch 42/100\n",
            "536/536 [==============================] - 2s 3ms/step - loss: 0.3790 - accuracy: 0.8319 - val_loss: 0.4215 - val_accuracy: 0.8535\n",
            "Epoch 43/100\n",
            "536/536 [==============================] - 2s 3ms/step - loss: 0.3719 - accuracy: 0.8463 - val_loss: 0.4146 - val_accuracy: 0.8531\n",
            "Epoch 44/100\n",
            "536/536 [==============================] - 1s 3ms/step - loss: 0.3773 - accuracy: 0.8454 - val_loss: 0.4159 - val_accuracy: 0.8573\n",
            "Epoch 45/100\n",
            "536/536 [==============================] - 2s 3ms/step - loss: 0.3764 - accuracy: 0.8357 - val_loss: 0.4284 - val_accuracy: 0.8485\n",
            "Epoch 46/100\n",
            "536/536 [==============================] - 1s 3ms/step - loss: 0.3705 - accuracy: 0.8476 - val_loss: 0.4506 - val_accuracy: 0.8448\n",
            "Epoch 47/100\n",
            "536/536 [==============================] - 1s 3ms/step - loss: 0.3716 - accuracy: 0.8346 - val_loss: 0.4103 - val_accuracy: 0.8588\n",
            "Epoch 48/100\n",
            "536/536 [==============================] - 1s 3ms/step - loss: 0.3746 - accuracy: 0.8392 - val_loss: 0.4393 - val_accuracy: 0.8565\n",
            "Epoch 49/100\n",
            "536/536 [==============================] - 1s 3ms/step - loss: 0.3766 - accuracy: 0.8474 - val_loss: 0.4268 - val_accuracy: 0.8463\n",
            "Epoch 50/100\n",
            "536/536 [==============================] - 1s 3ms/step - loss: 0.3721 - accuracy: 0.8430 - val_loss: 0.4495 - val_accuracy: 0.8542\n",
            "Epoch 51/100\n",
            "536/536 [==============================] - 1s 3ms/step - loss: 0.3892 - accuracy: 0.8319 - val_loss: 0.4391 - val_accuracy: 0.8523\n",
            "Epoch 52/100\n",
            "536/536 [==============================] - 2s 3ms/step - loss: 0.3673 - accuracy: 0.8435 - val_loss: 0.4288 - val_accuracy: 0.8523\n",
            "Epoch 53/100\n",
            "536/536 [==============================] - 2s 3ms/step - loss: 0.3642 - accuracy: 0.8524 - val_loss: 0.4313 - val_accuracy: 0.8512\n",
            "Epoch 54/100\n",
            "536/536 [==============================] - 1s 3ms/step - loss: 0.3744 - accuracy: 0.8436 - val_loss: 0.4528 - val_accuracy: 0.8425\n",
            "Epoch 55/100\n",
            "536/536 [==============================] - 2s 3ms/step - loss: 0.3669 - accuracy: 0.8522 - val_loss: 0.4264 - val_accuracy: 0.8402\n",
            "Epoch 56/100\n",
            "536/536 [==============================] - 2s 3ms/step - loss: 0.3799 - accuracy: 0.8359 - val_loss: 0.4204 - val_accuracy: 0.8561\n",
            "Epoch 57/100\n",
            "536/536 [==============================] - 1s 3ms/step - loss: 0.3697 - accuracy: 0.8453 - val_loss: 0.4352 - val_accuracy: 0.8554\n",
            "Epoch 58/100\n",
            "536/536 [==============================] - 1s 3ms/step - loss: 0.3791 - accuracy: 0.8400 - val_loss: 0.4230 - val_accuracy: 0.8527\n",
            "Epoch 59/100\n",
            "536/536 [==============================] - 1s 3ms/step - loss: 0.3675 - accuracy: 0.8427 - val_loss: 0.4350 - val_accuracy: 0.8451\n",
            "Epoch 60/100\n",
            "536/536 [==============================] - 2s 3ms/step - loss: 0.3737 - accuracy: 0.8472 - val_loss: 0.4151 - val_accuracy: 0.8554\n",
            "Epoch 61/100\n",
            "536/536 [==============================] - 1s 3ms/step - loss: 0.3637 - accuracy: 0.8403 - val_loss: 0.4491 - val_accuracy: 0.8413\n",
            "Epoch 62/100\n",
            "536/536 [==============================] - 2s 3ms/step - loss: 0.3659 - accuracy: 0.8506 - val_loss: 0.4424 - val_accuracy: 0.8569\n",
            "Epoch 63/100\n",
            "536/536 [==============================] - 2s 3ms/step - loss: 0.3760 - accuracy: 0.8398 - val_loss: 0.4380 - val_accuracy: 0.8512\n",
            "Epoch 64/100\n",
            "536/536 [==============================] - 1s 3ms/step - loss: 0.3667 - accuracy: 0.8506 - val_loss: 0.4229 - val_accuracy: 0.8569\n",
            "Epoch 65/100\n",
            "536/536 [==============================] - 1s 3ms/step - loss: 0.3747 - accuracy: 0.8413 - val_loss: 0.4351 - val_accuracy: 0.8550\n",
            "Epoch 66/100\n",
            "536/536 [==============================] - 1s 3ms/step - loss: 0.3745 - accuracy: 0.8410 - val_loss: 0.4302 - val_accuracy: 0.8557\n",
            "Epoch 67/100\n",
            "536/536 [==============================] - 1s 3ms/step - loss: 0.3795 - accuracy: 0.8331 - val_loss: 0.4577 - val_accuracy: 0.8535\n",
            "Epoch 68/100\n",
            "536/536 [==============================] - 1s 3ms/step - loss: 0.3705 - accuracy: 0.8402 - val_loss: 0.4578 - val_accuracy: 0.8482\n",
            "Epoch 69/100\n",
            "536/536 [==============================] - 2s 3ms/step - loss: 0.3634 - accuracy: 0.8496 - val_loss: 0.4477 - val_accuracy: 0.8508\n",
            "Epoch 70/100\n",
            "536/536 [==============================] - 1s 3ms/step - loss: 0.3669 - accuracy: 0.8548 - val_loss: 0.4309 - val_accuracy: 0.8588\n",
            "Epoch 71/100\n",
            "536/536 [==============================] - 2s 3ms/step - loss: 0.3511 - accuracy: 0.8506 - val_loss: 0.4348 - val_accuracy: 0.8550\n",
            "Epoch 72/100\n",
            "536/536 [==============================] - 1s 3ms/step - loss: 0.3548 - accuracy: 0.8517 - val_loss: 0.4533 - val_accuracy: 0.8493\n",
            "Epoch 73/100\n",
            "536/536 [==============================] - 1s 3ms/step - loss: 0.3769 - accuracy: 0.8373 - val_loss: 0.4439 - val_accuracy: 0.8523\n",
            "Epoch 74/100\n",
            "536/536 [==============================] - 1s 3ms/step - loss: 0.3782 - accuracy: 0.8389 - val_loss: 0.4521 - val_accuracy: 0.8459\n",
            "Epoch 75/100\n",
            "536/536 [==============================] - 2s 3ms/step - loss: 0.3813 - accuracy: 0.8315 - val_loss: 0.4449 - val_accuracy: 0.8440\n",
            "Epoch 76/100\n",
            "536/536 [==============================] - 2s 3ms/step - loss: 0.3561 - accuracy: 0.8513 - val_loss: 0.4634 - val_accuracy: 0.8466\n",
            "Epoch 77/100\n",
            "536/536 [==============================] - 1s 3ms/step - loss: 0.3770 - accuracy: 0.8410 - val_loss: 0.4175 - val_accuracy: 0.8573\n",
            "Epoch 78/100\n",
            "536/536 [==============================] - 2s 3ms/step - loss: 0.3666 - accuracy: 0.8489 - val_loss: 0.4280 - val_accuracy: 0.8542\n",
            "Epoch 79/100\n",
            "536/536 [==============================] - 2s 3ms/step - loss: 0.3697 - accuracy: 0.8422 - val_loss: 0.4228 - val_accuracy: 0.8554\n",
            "Epoch 80/100\n",
            "536/536 [==============================] - 2s 3ms/step - loss: 0.3670 - accuracy: 0.8429 - val_loss: 0.4496 - val_accuracy: 0.8459\n",
            "Epoch 81/100\n",
            "536/536 [==============================] - 2s 3ms/step - loss: 0.3894 - accuracy: 0.8372 - val_loss: 0.4041 - val_accuracy: 0.8580\n",
            "Epoch 82/100\n",
            "536/536 [==============================] - 2s 3ms/step - loss: 0.3745 - accuracy: 0.8515 - val_loss: 0.4096 - val_accuracy: 0.8576\n",
            "Epoch 83/100\n",
            "536/536 [==============================] - 1s 3ms/step - loss: 0.3742 - accuracy: 0.8430 - val_loss: 0.4203 - val_accuracy: 0.8576\n",
            "Epoch 84/100\n",
            "536/536 [==============================] - 1s 3ms/step - loss: 0.3596 - accuracy: 0.8493 - val_loss: 0.4342 - val_accuracy: 0.8504\n",
            "Epoch 85/100\n",
            "536/536 [==============================] - 1s 3ms/step - loss: 0.3793 - accuracy: 0.8348 - val_loss: 0.3929 - val_accuracy: 0.8580\n",
            "Epoch 86/100\n",
            "536/536 [==============================] - 1s 3ms/step - loss: 0.3652 - accuracy: 0.8485 - val_loss: 0.4373 - val_accuracy: 0.8542\n",
            "Epoch 87/100\n",
            "536/536 [==============================] - 1s 3ms/step - loss: 0.3627 - accuracy: 0.8467 - val_loss: 0.4227 - val_accuracy: 0.8554\n",
            "Epoch 88/100\n",
            "536/536 [==============================] - 1s 3ms/step - loss: 0.3809 - accuracy: 0.8400 - val_loss: 0.3961 - val_accuracy: 0.8576\n",
            "Epoch 89/100\n",
            "536/536 [==============================] - 1s 3ms/step - loss: 0.3922 - accuracy: 0.8406 - val_loss: 0.4269 - val_accuracy: 0.8531\n",
            "Epoch 90/100\n",
            "536/536 [==============================] - 1s 3ms/step - loss: 0.3789 - accuracy: 0.8361 - val_loss: 0.4321 - val_accuracy: 0.8576\n",
            "Epoch 91/100\n",
            "536/536 [==============================] - 1s 3ms/step - loss: 0.3814 - accuracy: 0.8414 - val_loss: 0.4313 - val_accuracy: 0.8478\n",
            "Epoch 92/100\n",
            "536/536 [==============================] - 2s 3ms/step - loss: 0.3723 - accuracy: 0.8500 - val_loss: 0.4582 - val_accuracy: 0.8493\n",
            "Epoch 93/100\n",
            "536/536 [==============================] - 2s 3ms/step - loss: 0.3683 - accuracy: 0.8447 - val_loss: 0.4376 - val_accuracy: 0.8508\n",
            "Epoch 94/100\n",
            "536/536 [==============================] - 2s 3ms/step - loss: 0.3779 - accuracy: 0.8463 - val_loss: 0.4239 - val_accuracy: 0.8482\n",
            "Epoch 95/100\n",
            "536/536 [==============================] - 1s 3ms/step - loss: 0.3702 - accuracy: 0.8406 - val_loss: 0.4606 - val_accuracy: 0.8440\n",
            "Epoch 96/100\n",
            "536/536 [==============================] - 1s 3ms/step - loss: 0.3598 - accuracy: 0.8482 - val_loss: 0.4510 - val_accuracy: 0.8489\n",
            "Epoch 97/100\n",
            "536/536 [==============================] - 1s 3ms/step - loss: 0.3593 - accuracy: 0.8502 - val_loss: 0.4328 - val_accuracy: 0.8535\n",
            "Epoch 98/100\n",
            "536/536 [==============================] - 1s 3ms/step - loss: 0.3691 - accuracy: 0.8400 - val_loss: 0.4426 - val_accuracy: 0.8451\n",
            "Epoch 99/100\n",
            "536/536 [==============================] - 1s 3ms/step - loss: 0.3787 - accuracy: 0.8385 - val_loss: 0.4304 - val_accuracy: 0.8508\n",
            "Epoch 100/100\n",
            "536/536 [==============================] - 1s 3ms/step - loss: 0.3672 - accuracy: 0.8448 - val_loss: 0.4251 - val_accuracy: 0.8557\n"
          ],
          "name": "stdout"
        }
      ]
    },
    {
      "cell_type": "code",
      "metadata": {
        "id": "Cqio9AX7xP9P"
      },
      "source": [
        "y_pred = classifier.predict(x_test)\n",
        "y_pred = (y_pred > 0.5)"
      ],
      "execution_count": 58,
      "outputs": []
    },
    {
      "cell_type": "code",
      "metadata": {
        "id": "tZZYdL7FzB6f"
      },
      "source": [
        "from sklearn.metrics import confusion_matrix\n",
        "cm = confusion_matrix(y_test, y_pred)"
      ],
      "execution_count": 59,
      "outputs": []
    },
    {
      "cell_type": "code",
      "metadata": {
        "colab": {
          "base_uri": "https://localhost:8080/"
        },
        "id": "VhkWYqD8zLLm",
        "outputId": "6601739f-57e7-4736-ebc5-2409794e1a48"
      },
      "source": [
        "cm"
      ],
      "execution_count": 60,
      "outputs": [
        {
          "output_type": "execute_result",
          "data": {
            "text/plain": [
              "array([[1515,   80],\n",
              "       [ 197,  208]])"
            ]
          },
          "metadata": {
            "tags": []
          },
          "execution_count": 60
        }
      ]
    },
    {
      "cell_type": "code",
      "metadata": {
        "id": "lVv-XzFtzpHX"
      },
      "source": [
        "from sklearn.metrics import accuracy_score\n",
        "score = accuracy_score(y_pred, y_test)"
      ],
      "execution_count": 61,
      "outputs": []
    },
    {
      "cell_type": "code",
      "metadata": {
        "colab": {
          "base_uri": "https://localhost:8080/"
        },
        "id": "mSSect8xz3NP",
        "outputId": "43708043-e8c1-49b0-d227-1a534a0d8116"
      },
      "source": [
        "print(score)"
      ],
      "execution_count": 62,
      "outputs": [
        {
          "output_type": "stream",
          "text": [
            "0.8615\n"
          ],
          "name": "stdout"
        }
      ]
    },
    {
      "cell_type": "code",
      "metadata": {
        "colab": {
          "base_uri": "https://localhost:8080/"
        },
        "id": "5MTiL7h-0Apf",
        "outputId": "f441f10b-ea5b-44c0-c391-eca2049abd5f"
      },
      "source": [
        "print(model_history.history.keys())"
      ],
      "execution_count": 63,
      "outputs": [
        {
          "output_type": "stream",
          "text": [
            "dict_keys(['loss', 'accuracy', 'val_loss', 'val_accuracy'])\n"
          ],
          "name": "stdout"
        }
      ]
    },
    {
      "cell_type": "code",
      "metadata": {
        "colab": {
          "base_uri": "https://localhost:8080/",
          "height": 312
        },
        "id": "NfQKNjCb5e6H",
        "outputId": "5af855c8-0119-4845-f9dc-a4a6bc86b173"
      },
      "source": [
        "plt.plot(model_history.history['accuracy'])\n",
        "plt.plot(model_history.history['val_accuracy'])\n",
        "plt.title('Model Accuracy')\n",
        "plt.ylabel('accurary')\n",
        "plt.xlabel('epoch')\n",
        "plt.legend(['train', 'test'], loc='upper left')"
      ],
      "execution_count": 73,
      "outputs": [
        {
          "output_type": "execute_result",
          "data": {
            "text/plain": [
              "<matplotlib.legend.Legend at 0x7f6082d5a610>"
            ]
          },
          "metadata": {
            "tags": []
          },
          "execution_count": 73
        },
        {
          "output_type": "display_data",
          "data": {
            "image/png": "[encoded data removed]",
            "text/plain": [
              "<Figure size 432x288 with 1 Axes>"
            ]
          },
          "metadata": {
            "tags": [],
            "needs_background": "light"
          }
        }
      ]
    },
    {
      "cell_type": "code",
      "metadata": {
        "colab": {
          "base_uri": "https://localhost:8080/",
          "height": 312
        },
        "id": "nWRyQ6iq6I3O",
        "outputId": "3e9b0068-ebb8-4997-852b-153179c35e71"
      },
      "source": [
        "plt.plot(model_history.history['loss'])\n",
        "plt.plot(model_history.history['val_loss'])\n",
        "plt.title('Model Loss')\n",
        "plt.ylabel('loss')\n",
        "plt.xlabel('epoch')\n",
        "plt.legend(['train', 'test'], loc='upper left')"
      ],
      "execution_count": 74,
      "outputs": [
        {
          "output_type": "execute_result",
          "data": {
            "text/plain": [
              "<matplotlib.legend.Legend at 0x7f6082cec350>"
            ]
          },
          "metadata": {
            "tags": []
          },
          "execution_count": 74
        },
        {
          "output_type": "display_data",
          "data": {
            "image/png": "[encoded data removed]",
            "text/plain": [
              "<Figure size 432x288 with 1 Axes>"
            ]
          },
          "metadata": {
            "tags": [],
            "needs_background": "light"
          }
        }
      ]
    }
  ]
}