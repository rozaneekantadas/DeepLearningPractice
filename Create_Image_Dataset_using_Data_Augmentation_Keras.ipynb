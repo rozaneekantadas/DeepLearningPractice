{
  "nbformat": 4,
  "nbformat_minor": 0,
  "metadata": {
    "colab": {
      "name": "Create Image Dataset using Data Augmentation - Keras.ipynb",
      "provenance": [],
      "mount_file_id": "1wCvVt3J-jIsTKXXleFVL1H5DQAFupRgF",
      "authorship_tag": "ABX9TyOXMxpf5k5uLvUHZwvetzqA"
    },
    "kernelspec": {
      "name": "python3",
      "display_name": "Python 3"
    },
    "language_info": {
      "name": "python"
    }
  },
  "cells": [
    {
      "cell_type": "code",
      "metadata": {
        "id": "xIy42DcNOVAk"
      },
      "source": [
        "img_file_path = '/content/drive/MyDrive/Colab Notebooks/DeepLearningPractice/CNN/CatImage/cat.jpg'"
      ],
      "execution_count": 1,
      "outputs": []
    },
    {
      "cell_type": "code",
      "metadata": {
        "id": "VYDfED2HPzW_"
      },
      "source": [
        "from keras_preprocessing.image import ImageDataGenerator, array_to_img, img_to_array, load_img"
      ],
      "execution_count": 7,
      "outputs": []
    },
    {
      "cell_type": "code",
      "metadata": {
        "id": "NU5JXE7xP7bc"
      },
      "source": [
        "datagen = ImageDataGenerator(\n",
        "    rotation_range=40,\n",
        "    width_shift_range=0.2,\n",
        "    height_shift_range=0.2,\n",
        "    shear_range=0.2,\n",
        "    zoom_range=0.2,\n",
        "    horizontal_flip=True,\n",
        "    vertical_flip=True,\n",
        "    fill_mode='nearest')"
      ],
      "execution_count": 5,
      "outputs": []
    },
    {
      "cell_type": "code",
      "metadata": {
        "id": "c83KIMLqQmzM"
      },
      "source": [
        "img = load_img(img_file_path)"
      ],
      "execution_count": 8,
      "outputs": []
    },
    {
      "cell_type": "code",
      "metadata": {
        "id": "5G99q3DeQxuL"
      },
      "source": [
        "x = img_to_array(img) #numy array shape(150, 150)\n",
        "x = x.reshape((1,) + x.shape) #numpy array reshape with shape(1, 3, 150, 150)"
      ],
      "execution_count": 10,
      "outputs": []
    },
    {
      "cell_type": "code",
      "metadata": {
        "id": "lNXiZZkaRFgS"
      },
      "source": [
        "#.flow() generates batches of randomly trasformed images\n",
        "#save the images to the preview directory\n",
        "i = 0\n",
        "for batch in datagen.flow(x, batch_size=1, save_to_dir='/content/drive/MyDrive/Colab Notebooks/DeepLearningPractice/CNN/CatImage/preview', save_prefix='cat', save_format='jpg'):\n",
        "  i = i + 1\n",
        "  if i > 20:\n",
        "    break"
      ],
      "execution_count": 13,
      "outputs": []
    }
  ]
}